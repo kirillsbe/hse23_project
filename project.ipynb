{
 "cells": [
  {
   "cell_type": "markdown",
   "metadata": {},
   "source": [
    "Перенесем на сервер phf8.fa (самый длинный изоформ)"
   ]
  },
  {
   "cell_type": "code",
   "execution_count": 1,
   "metadata": {},
   "outputs": [
    {
     "name": "stdout",
     "output_type": "stream",
     "text": [
      "/mnt/storage/project_2023/proteomes/c.elegans.faa\n",
      "/mnt/storage/project_2023/proteomes/ciliate.faa\n",
      "/mnt/storage/project_2023/proteomes/drosophila.faa\n",
      "/mnt/storage/project_2023/proteomes/e.coli.faa\n",
      "/mnt/storage/project_2023/proteomes/human.faa\n",
      "/mnt/storage/project_2023/proteomes/methanocaldococcus.faa\n",
      "/mnt/storage/project_2023/proteomes/mouse.faa\n",
      "/mnt/storage/project_2023/proteomes/thermococcus.faa\n",
      "/mnt/storage/project_2023/proteomes/tuberculosis.faa\n",
      "/mnt/storage/project_2023/proteomes/yeast.faa\n",
      "/mnt/storage/project_2023/proteomes/zebrafish.faa\n"
     ]
    }
   ],
   "source": [
    "!ls /mnt/storage/project_2023/proteomes/*.faa"
   ]
  },
  {
   "cell_type": "code",
   "execution_count": 15,
   "metadata": {},
   "outputs": [],
   "source": [
    "import subprocess\n",
    "import glob\n",
    "import os\n",
    "\n",
    "path_calc = \"/mnt/storage/project_2023/proteomes\"\n",
    "output_path = \"/home/kvyartsev/\"\n",
    "input_files = sorted(glob.glob(f\"{path_calc}/*.faa\"))\n",
    "output_files = [os.path.splitext(os.path.basename(file))[0] for file in input_files]\n",
    "\n",
    "\n",
    "def run_blastp(input, output):\n",
    "    cmd = f\"blastp -query ing4.fa -db {input} -out ING4_{output}.blast -outfmt 7\"\n",
    "    subprocess.run(cmd, shell=True, stdout=subprocess.DEVNULL)\n",
    "\n",
    "for input, output in zip(input_files, output_files):\n",
    "    run_blastp(input, output)"
   ]
  },
  {
   "cell_type": "markdown",
   "metadata": {},
   "source": [
    "Перенесем в папку проекта один белок из каждого гистона (H2A_single.fasta, H2B_single.fasta, ...)"
   ]
  },
  {
   "cell_type": "code",
   "execution_count": 16,
   "metadata": {},
   "outputs": [],
   "source": [
    "import subprocess\n",
    "import glob\n",
    "import os\n",
    "\n",
    "path1 = \"/home/kvyartsev/\"\n",
    "path2 = \"/mnt/storage/project_2023/proteomes\"\n",
    "input_files1 = sorted(glob.glob(f\"{path1}/*single.fasta\"))\n",
    "input_files2 = sorted(glob.glob(f\"{path2}/*.faa\"))\n",
    "\n",
    "\n",
    "def run_blastp(input1, input2):\n",
    "    output_path = \"/home/kvyartsev/\"\n",
    "    histone_name = os.path.basename(input1).replace(\"_single.fasta\", \"\")\n",
    "    proteome_name = os.path.basename(input2).replace(\".faa\", \"\")\n",
    "    output = os.path.join(output_path, f\"{histone_name}_{proteome_name}\")\n",
    "    cmd = f\"blastp -query {input1} -db {input2} -out {output}.blast -outfmt 7\"\n",
    "    subprocess.run(cmd, shell=True, stdout=subprocess.DEVNULL)\n",
    "\n",
    "for input1 in input_files1:\n",
    "    for input2 in input_files2:\n",
    "        run_blastp(input1, input2)"
   ]
  },
  {
   "cell_type": "code",
   "execution_count": 17,
   "metadata": {},
   "outputs": [],
   "source": [
    "import os\n",
    "import pandas as pd\n",
    "\n",
    "def parse_blast_files(directory):\n",
    "    blast_files = [file for file in os.listdir(directory) if file.endswith('.blast')]\n",
    "\n",
    "    path1 = \"/mnt/storage/project_2023/histones\"\n",
    "    path2 = \"/mnt/storage/project_2023/proteomes\"\n",
    "    input_files1 = sorted(glob.glob(f\"{path1}/*.fasta\"))\n",
    "    input_files2 = sorted(glob.glob(f\"{path2}/*.faa\"))\n",
    "\n",
    "    histones = [os.path.splitext(os.path.basename(file))[0] for file in input_files1]\n",
    "    histones.append('ING4')\n",
    "    proteomes = [os.path.splitext(os.path.basename(file))[0] for file in input_files2]\n",
    "    proteomes = ['human','mouse','zebrafish','drosophila','c.elegans',\n",
    "                 'ciliate','yeast','methanocaldococcus','thermococcus','e.coli','tuberculosis']\n",
    "\n",
    "    \n",
    "\n",
    "    \n",
    "    data = []\n",
    "    for file in blast_files:\n",
    "        file_path = os.path.join(directory, file)\n",
    "        with open(file_path, 'r') as f:\n",
    "            lines = f.readlines()\n",
    "        \n",
    "        # Extract the first evalue\n",
    "        first_evalue = lines[5].split('\\t')[10].strip()\n",
    "        if float(first_evalue) > 1:\n",
    "            first_evalue = '1'\n",
    "        elif float(first_evalue) < 1e-300:\n",
    "            first_evalue = '1e-300'\n",
    "        data.append((os.path.splitext(file)[0], first_evalue))\n",
    "    \n",
    "    # Create DataFrame\n",
    "    df = pd.DataFrame(data, columns=['Histone_proteome', 'Evalue'])\n",
    "    # df = pd.DataFrame(data)\n",
    "\n",
    "    # Create an empty DataFrame with proteomes as columns and histones as rows\n",
    "    result_df = pd.DataFrame(index=histones, columns=proteomes)\n",
    "\n",
    "\n",
    "    # Fill in the values in the result_df based on the data\n",
    "    for row in df.itertuples(index=False):\n",
    "        proteome = row.Histone_proteome.split('_')[1]\n",
    "        histone = row.Histone_proteome.split('_', 1)[0]\n",
    "        result_df.at[histone, proteome] = row.Evalue\n",
    "\n",
    "    result_df.to_csv('blast_results.csv')\n",
    "    return result_df\n",
    "# Example usage\n",
    "directory_path = \"/home/kvyartsev/\"\n",
    "result_df = parse_blast_files(directory_path)"
   ]
  },
  {
   "cell_type": "code",
   "execution_count": 18,
   "metadata": {},
   "outputs": [
    {
     "name": "stdout",
     "output_type": "stream",
     "text": [
      "         human     mouse  zebrafish drosophila c.elegans   ciliate     yeast  \\\n",
      "H2A   4.94e-91  4.57e-84   1.06e-81   2.34e-69  6.53e-67  2.45e-57  8.88e-63   \n",
      "H2B   2.85e-87  1.15e-83   1.85e-71   3.30e-59  5.28e-65  1.91e-49  3.07e-57   \n",
      "H3    2.19e-96  1.54e-96   1.77e-95   9.39e-96  4.46e-94  8.41e-86  3.31e-87   \n",
      "H4    1.09e-67  7.60e-68   1.13e-68   8.02e-68  6.15e-68  1.96e-45  1.08e-52   \n",
      "ING4    1e-300    1e-300  4.29e-154   1.28e-85  1.12e-16  1.55e-29  1.42e-21   \n",
      "\n",
      "     methanocaldococcus thermococcus e.coli tuberculosis  \n",
      "H2A               0.001         0.15      1         0.40  \n",
      "H2B                   1         0.17      1            1  \n",
      "H3                0.034        0.057   0.90            1  \n",
      "H4             8.22e-05     3.31e-05      1        0.069  \n",
      "ING4               0.86         0.23   0.17         0.30  \n"
     ]
    }
   ],
   "source": [
    "print(result_df)"
   ]
  },
  {
   "cell_type": "code",
   "execution_count": 19,
   "metadata": {},
   "outputs": [],
   "source": [
    "import numpy as np\n",
    "def df_to_log(result_df):\n",
    "    log_df = result_df.copy()\n",
    "    log_df = np.abs(np.log10(log_df.apply(pd.to_numeric)))\n",
    "    return log_df"
   ]
  },
  {
   "cell_type": "code",
   "execution_count": 20,
   "metadata": {},
   "outputs": [
    {
     "data": {
      "text/html": [
       "<div>\n",
       "<style scoped>\n",
       "    .dataframe tbody tr th:only-of-type {\n",
       "        vertical-align: middle;\n",
       "    }\n",
       "\n",
       "    .dataframe tbody tr th {\n",
       "        vertical-align: top;\n",
       "    }\n",
       "\n",
       "    .dataframe thead th {\n",
       "        text-align: right;\n",
       "    }\n",
       "</style>\n",
       "<table border=\"1\" class=\"dataframe\">\n",
       "  <thead>\n",
       "    <tr style=\"text-align: right;\">\n",
       "      <th></th>\n",
       "      <th>human</th>\n",
       "      <th>mouse</th>\n",
       "      <th>zebrafish</th>\n",
       "      <th>drosophila</th>\n",
       "      <th>c.elegans</th>\n",
       "      <th>ciliate</th>\n",
       "      <th>yeast</th>\n",
       "      <th>methanocaldococcus</th>\n",
       "      <th>thermococcus</th>\n",
       "      <th>e.coli</th>\n",
       "      <th>tuberculosis</th>\n",
       "    </tr>\n",
       "  </thead>\n",
       "  <tbody>\n",
       "    <tr>\n",
       "      <th>H2A</th>\n",
       "      <td>90.306273</td>\n",
       "      <td>83.340084</td>\n",
       "      <td>80.974694</td>\n",
       "      <td>68.630784</td>\n",
       "      <td>66.185087</td>\n",
       "      <td>56.610834</td>\n",
       "      <td>62.051587</td>\n",
       "      <td>3.000000</td>\n",
       "      <td>0.823909</td>\n",
       "      <td>0.000000</td>\n",
       "      <td>0.397940</td>\n",
       "    </tr>\n",
       "    <tr>\n",
       "      <th>H2B</th>\n",
       "      <td>86.545155</td>\n",
       "      <td>82.939302</td>\n",
       "      <td>70.732828</td>\n",
       "      <td>58.481486</td>\n",
       "      <td>64.277366</td>\n",
       "      <td>48.718967</td>\n",
       "      <td>56.512862</td>\n",
       "      <td>0.000000</td>\n",
       "      <td>0.769551</td>\n",
       "      <td>0.000000</td>\n",
       "      <td>0.000000</td>\n",
       "    </tr>\n",
       "    <tr>\n",
       "      <th>H3</th>\n",
       "      <td>95.659556</td>\n",
       "      <td>95.812479</td>\n",
       "      <td>94.752027</td>\n",
       "      <td>95.027334</td>\n",
       "      <td>93.350665</td>\n",
       "      <td>85.075204</td>\n",
       "      <td>86.480172</td>\n",
       "      <td>1.468521</td>\n",
       "      <td>1.244125</td>\n",
       "      <td>0.045757</td>\n",
       "      <td>0.000000</td>\n",
       "    </tr>\n",
       "    <tr>\n",
       "      <th>H4</th>\n",
       "      <td>66.962574</td>\n",
       "      <td>67.119186</td>\n",
       "      <td>67.946922</td>\n",
       "      <td>67.095826</td>\n",
       "      <td>67.211125</td>\n",
       "      <td>44.707744</td>\n",
       "      <td>51.966576</td>\n",
       "      <td>4.085128</td>\n",
       "      <td>4.480172</td>\n",
       "      <td>0.000000</td>\n",
       "      <td>1.161151</td>\n",
       "    </tr>\n",
       "    <tr>\n",
       "      <th>ING4</th>\n",
       "      <td>300.000000</td>\n",
       "      <td>300.000000</td>\n",
       "      <td>153.367543</td>\n",
       "      <td>84.892790</td>\n",
       "      <td>15.950782</td>\n",
       "      <td>28.809668</td>\n",
       "      <td>20.847712</td>\n",
       "      <td>0.065502</td>\n",
       "      <td>0.638272</td>\n",
       "      <td>0.769551</td>\n",
       "      <td>0.522879</td>\n",
       "    </tr>\n",
       "  </tbody>\n",
       "</table>\n",
       "</div>"
      ],
      "text/plain": [
       "           human       mouse   zebrafish  drosophila  c.elegans    ciliate  \\\n",
       "H2A    90.306273   83.340084   80.974694   68.630784  66.185087  56.610834   \n",
       "H2B    86.545155   82.939302   70.732828   58.481486  64.277366  48.718967   \n",
       "H3     95.659556   95.812479   94.752027   95.027334  93.350665  85.075204   \n",
       "H4     66.962574   67.119186   67.946922   67.095826  67.211125  44.707744   \n",
       "ING4  300.000000  300.000000  153.367543   84.892790  15.950782  28.809668   \n",
       "\n",
       "          yeast  methanocaldococcus  thermococcus    e.coli  tuberculosis  \n",
       "H2A   62.051587            3.000000      0.823909  0.000000      0.397940  \n",
       "H2B   56.512862            0.000000      0.769551  0.000000      0.000000  \n",
       "H3    86.480172            1.468521      1.244125  0.045757      0.000000  \n",
       "H4    51.966576            4.085128      4.480172  0.000000      1.161151  \n",
       "ING4  20.847712            0.065502      0.638272  0.769551      0.522879  "
      ]
     },
     "execution_count": 20,
     "metadata": {},
     "output_type": "execute_result"
    }
   ],
   "source": [
    "log_df = df_to_log(result_df)\n",
    "log_df"
   ]
  },
  {
   "cell_type": "code",
   "execution_count": null,
   "metadata": {},
   "outputs": [],
   "source": []
  },
  {
   "cell_type": "code",
   "execution_count": 21,
   "metadata": {},
   "outputs": [
    {
     "data": {
      "text/plain": [
       "<Axes: >"
      ]
     },
     "execution_count": 21,
     "metadata": {},
     "output_type": "execute_result"
    },
    {
     "data": {
      "image/png": "[encoded data removed]",
      "text/plain": [
       "<Figure size 640x480 with 2 Axes>"
      ]
     },
     "metadata": {},
     "output_type": "display_data"
    }
   ],
   "source": [
    "import seaborn as sns\n",
    "sns.heatmap(log_df, cmap='Blues')"
   ]
  },
  {
   "cell_type": "code",
   "execution_count": 24,
   "metadata": {},
   "outputs": [
    {
     "name": "stdout",
     "output_type": "stream",
     "text": [
      "ING4_human.blast 378\n",
      "ING4_e.coli.blast 10\n",
      "ING4_yeast.blast 10\n",
      "ING4_ciliate.blast 36\n",
      "ING4_drosophila.blast 95\n",
      "ING4_zebrafish.blast 140\n",
      "ING4_tuberculosis.blast 3\n",
      "ING4_c.elegans.blast 41\n",
      "ING4_thermococcus.blast 7\n",
      "ING4_mouse.blast 399\n",
      "ING4_methanocaldococcus.blast 9\n"
     ]
    }
   ],
   "source": [
    "data = []\n",
    "directory_path = \"/home/kvyartsev/\"\n",
    "blast_files = [file for file in os.listdir(directory_path) if file.endswith('.blast')]\n",
    "for file in blast_files:\n",
    "    if file.startswith(\"ING4_\"):\n",
    "        file_path = os.path.join(directory_path, file)\n",
    "        with open(file_path, 'r') as f:\n",
    "            lines = f.readlines()\n",
    "        \n",
    "        # Extract the evalue from the 5th line\n",
    "        hits_found = lines[4].split(' ')[1]\n",
    "        print(file, hits_found)"
   ]
  }
 ],
 "metadata": {
  "kernelspec": {
   "display_name": "Python 3 (ipykernel)",
   "language": "python",
   "name": "python3"
  },
  "language_info": {
   "codemirror_mode": {
    "name": "ipython",
    "version": 3
   },
   "file_extension": ".py",
   "mimetype": "text/x-python",
   "name": "python",
   "nbconvert_exporter": "python",
   "pygments_lexer": "ipython3",
   "version": "3.10.9"
  }
 },
 "nbformat": 4,
 "nbformat_minor": 4
}
